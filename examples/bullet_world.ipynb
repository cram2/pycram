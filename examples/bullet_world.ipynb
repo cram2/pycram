{
 "cells": [
  {
   "cell_type": "markdown",
   "id": "8d2d6a94",
   "metadata": {},
   "source": [
    "# Bullet World\n",
    "This Notebook will show you the basics of working with the PyCRAM BulletWorld.\n",
    "\n",
    "First we need to import and create a BulletWorld."
   ]
  },
  {
   "cell_type": "code",
   "execution_count": 10,
   "id": "23bbba35",
   "metadata": {
    "ExecuteTime": {
     "end_time": "2024-02-13T15:47:29.216024027Z",
     "start_time": "2024-02-13T15:47:28.957268876Z"
    }
   },
   "outputs": [],
   "source": [
    "from pycram.bullet_world import BulletWorld\n",
    "from pycram.pose import Pose\n",
    "from pycram.enums import ObjectType\n",
    "\n",
    "world = BulletWorld()"
   ]
  },
  {
   "cell_type": "markdown",
   "id": "dccaf6ff",
   "metadata": {},
   "source": [
    "This new window is the BulletWorld, PyCRAMs internal physics simulation. You can use the mouse to move the camera around:\n",
    "\n",
    "  * Press the left mouse button to rotate the camera\n",
    "  * Press the right mouse button to move the camera \n",
    "  * Press the middle mouse button (scroll wheel) and move the mouse up or down to zoom\n",
    "    \n",
    "At the moment the BulletWorld only contains a floor, this is spawned by default when creating the BulletWorld. Furthermore, the gravity is set to 9.8 m^2, which is the same gravitation as the one on earth. \n",
    "    "
   ]
  },
  {
   "cell_type": "markdown",
   "id": "4403bf9c",
   "metadata": {},
   "source": [
    "To close the BulletWorld again please use the ```exit``` method since it will also terminate threads running in the background"
   ]
  },
  {
   "cell_type": "code",
   "execution_count": 25,
   "id": "b1e6ed82",
   "metadata": {
    "ExecuteTime": {
     "end_time": "2024-02-13T15:48:37.774877411Z",
     "start_time": "2024-02-13T15:48:37.454451399Z"
    }
   },
   "outputs": [],
   "source": [
    "world.exit()"
   ]
  },
  {
   "cell_type": "markdown",
   "id": "e0fc7086",
   "metadata": {},
   "source": [
    "To spawn new things in the BulletWorld we need to import the Object class and create and instance of it. "
   ]
  },
  {
   "cell_type": "code",
   "execution_count": 11,
   "id": "48a3aed2",
   "metadata": {
    "ExecuteTime": {
     "end_time": "2024-02-13T15:47:31.302418262Z",
     "start_time": "2024-02-13T15:47:31.241712836Z"
    }
   },
   "outputs": [],
   "source": [
    "from pycram.bullet_world import Object\n",
    "\n",
    "milk = Object(\"milk\", ObjectType.MILK, \"milk.stl\", pose=Pose([0, 0, 1]))"
   ]
  },
  {
   "cell_type": "markdown",
   "id": "8a754f12",
   "metadata": {},
   "source": [
    "As you can see this spawns a milk floating in the air. What we did here was create a new Object which has the name \"milk\" as well as the type ```ObjectType.MILK ``` , is spawned from the file \"milk.stl\" and is at the position [0, 0, 1]. \n",
    "\n",
    "The type of an Object can either be from the enum ObjectType or a string. However, it is recommended to use the enum since this would make for a more consistent naming of types which makes it easier to work with types. But since the types of the enum might not fit your case you can also use strings. \n",
    "\n",
    "The first three of these parameters are required while the position is optional. As you can see it was sufficient to only specify the filename for PyCRAM to spawn the milk mesh. When only providing a filename, PyCRAM will search in its resource directory for a matching file and use it. \n",
    "\n",
    "For a complete list of all parameters that can be used to crate an Object please check the documentation. \n",
    "\n",
    "\n",
    "\n",
    "Since the Object is spawned, we can now interact with it. First we want to move it around and change its orientation"
   ]
  },
  {
   "cell_type": "code",
   "execution_count": 12,
   "id": "4ae2bc42",
   "metadata": {
    "ExecuteTime": {
     "end_time": "2024-02-13T15:47:33.764113176Z",
     "start_time": "2024-02-13T15:47:33.760697071Z"
    }
   },
   "outputs": [],
   "source": [
    "milk.set_position(Pose([1, 1, 1]))"
   ]
  },
  {
   "cell_type": "code",
   "execution_count": 13,
   "id": "4adc7b11",
   "metadata": {
    "ExecuteTime": {
     "end_time": "2024-02-13T15:47:34.276496046Z",
     "start_time": "2024-02-13T15:47:34.271694958Z"
    }
   },
   "outputs": [],
   "source": [
    "milk.set_orientation(Pose(orientation=[1,0, 0, 1]))"
   ]
  },
  {
   "cell_type": "code",
   "execution_count": 14,
   "id": "f91d1809",
   "metadata": {
    "ExecuteTime": {
     "end_time": "2024-02-13T15:47:34.940783207Z",
     "start_time": "2024-02-13T15:47:34.936737967Z"
    }
   },
   "outputs": [],
   "source": [
    "milk.set_pose(Pose([0, 0, 1], [0, 0, 0, 1]))"
   ]
  },
  {
   "cell_type": "markdown",
   "id": "5805be38",
   "metadata": {},
   "source": [
    "In the same sense as setting the position or orientation, you can also get the position and orientation."
   ]
  },
  {
   "cell_type": "code",
   "execution_count": 9,
   "id": "1db2aa78",
   "metadata": {},
   "outputs": [
    {
     "name": "stdout",
     "output_type": "stream",
     "text": [
      "Position: \n",
      "x: 0.0\n",
      "y: 0.0\n",
      "z: 1.0\n",
      "Orientation: \n",
      "x: 0.0\n",
      "y: 0.0\n",
      "z: 0.0\n",
      "w: 1.0\n",
      "Pose: \n",
      "header: \n",
      "  seq: 0\n",
      "  stamp: \n",
      "    secs: 1690203002\n",
      "    nsecs:  93374252\n",
      "  frame_id: \"map\"\n",
      "pose: \n",
      "  position: \n",
      "    x: 0.0\n",
      "    y: 0.0\n",
      "    z: 1.0\n",
      "  orientation: \n",
      "    x: 0.0\n",
      "    y: 0.0\n",
      "    z: 0.0\n",
      "    w: 1.0\n"
     ]
    }
   ],
   "source": [
    "print(f\"Position: \\n{milk.get_position()}\")\n",
    "\n",
    "print(f\"Orientation: \\n{milk.get_orientation()}\")\n",
    "\n",
    "print(f\"Pose: \\n{milk.get_pose()}\")"
   ]
  },
  {
   "cell_type": "markdown",
   "id": "68c02db9",
   "metadata": {},
   "source": [
    "## Attachments\n",
    "You can attach Objects to each other simply by calling the attach method on one of them and providing the other as parameter. Since attachments are bi-directional it doesn't matter on which Object you call the method. \n",
    "\n",
    "First we need another Object"
   ]
  },
  {
   "cell_type": "code",
   "execution_count": 15,
   "id": "10a493b1",
   "metadata": {
    "ExecuteTime": {
     "end_time": "2024-02-13T15:47:46.990799684Z",
     "start_time": "2024-02-13T15:47:46.927115063Z"
    }
   },
   "outputs": [],
   "source": [
    "cereal = Object(\"cereal\", ObjectType.BREAKFAST_CEREAL, \"breakfast_cereal.stl\", pose=Pose([1, 0, 1]))"
   ]
  },
  {
   "cell_type": "code",
   "execution_count": 16,
   "id": "275372e3",
   "metadata": {
    "ExecuteTime": {
     "end_time": "2024-02-13T15:47:47.220018421Z",
     "start_time": "2024-02-13T15:47:47.207872697Z"
    }
   },
   "outputs": [],
   "source": [
    "milk.attach(cereal)"
   ]
  },
  {
   "cell_type": "markdown",
   "id": "5577c567",
   "metadata": {},
   "source": [
    "Now since they are attached to each other, if we move one of them the other will move in conjunction."
   ]
  },
  {
   "cell_type": "code",
   "execution_count": 17,
   "id": "dff85834",
   "metadata": {
    "ExecuteTime": {
     "end_time": "2024-02-13T15:47:57.218151115Z",
     "start_time": "2024-02-13T15:47:57.177630389Z"
    }
   },
   "outputs": [],
   "source": [
    "milk.set_position(Pose([1,1,1]))"
   ]
  },
  {
   "cell_type": "markdown",
   "id": "196bd705",
   "metadata": {},
   "source": [
    "In the same way the Object can also be detached, just call the detach method on one of the two attached Objects."
   ]
  },
  {
   "cell_type": "code",
   "execution_count": 18,
   "id": "b0bba145",
   "metadata": {
    "ExecuteTime": {
     "end_time": "2024-02-13T15:48:00.263063407Z",
     "start_time": "2024-02-13T15:48:00.259214990Z"
    }
   },
   "outputs": [],
   "source": [
    "cereal.detach(milk)"
   ]
  },
  {
   "cell_type": "markdown",
   "id": "e5e44a67",
   "metadata": {},
   "source": [
    "## Links and Joints\n",
    "Objects spawned from mesh files do not have links or joints, but if you spawn things from a URDF like a robot they will have a lot of links and joints. Every Object has two dictionaries as attributes, namely ```links``` and ```joints``` which contain every link or joint as key and a unique id, used by PyBullet, as value. \n",
    "\n",
    "We will see this at the example of the PR2:"
   ]
  },
  {
   "cell_type": "code",
   "execution_count": 19,
   "id": "edf5cb72",
   "metadata": {
    "ExecuteTime": {
     "end_time": "2024-02-13T15:48:07.478988267Z",
     "start_time": "2024-02-13T15:48:03.602557110Z"
    }
   },
   "outputs": [
    {
     "name": "stdout",
     "output_type": "stream",
     "text": [
      "{'base_link': 0, 'base_bellow_link': 1, 'base_laser_link': 2, 'fl_caster_rotation_link': 3, 'fl_caster_l_wheel_link': 4, 'fl_caster_r_wheel_link': 5, 'fr_caster_rotation_link': 6, 'fr_caster_l_wheel_link': 7, 'fr_caster_r_wheel_link': 8, 'bl_caster_rotation_link': 9, 'bl_caster_l_wheel_link': 10, 'bl_caster_r_wheel_link': 11, 'br_caster_rotation_link': 12, 'br_caster_l_wheel_link': 13, 'br_caster_r_wheel_link': 14, 'torso_lift_link': 15, 'l_torso_lift_side_plate_link': 16, 'r_torso_lift_side_plate_link': 17, 'imu_link': 18, 'head_pan_link': 19, 'head_tilt_link': 20, 'head_plate_frame': 21, 'sensor_mount_link': 22, 'high_def_frame': 23, 'high_def_optical_frame': 24, 'double_stereo_link': 25, 'wide_stereo_link': 26, 'wide_stereo_optical_frame': 27, 'wide_stereo_l_stereo_camera_frame': 28, 'wide_stereo_l_stereo_camera_optical_frame': 29, 'wide_stereo_r_stereo_camera_frame': 30, 'wide_stereo_r_stereo_camera_optical_frame': 31, 'narrow_stereo_link': 32, 'narrow_stereo_optical_frame': 33, 'narrow_stereo_l_stereo_camera_frame': 34, 'narrow_stereo_l_stereo_camera_optical_frame': 35, 'narrow_stereo_r_stereo_camera_frame': 36, 'narrow_stereo_r_stereo_camera_optical_frame': 37, 'projector_wg6802418_frame': 38, 'projector_wg6802418_child_frame': 39, 'laser_tilt_mount_link': 40, 'laser_tilt_link': 41, 'r_shoulder_pan_link': 42, 'r_shoulder_lift_link': 43, 'r_upper_arm_roll_link': 44, 'r_upper_arm_link': 45, 'r_elbow_flex_link': 46, 'r_forearm_roll_link': 47, 'r_forearm_link': 48, 'r_wrist_flex_link': 49, 'r_wrist_roll_link': 50, 'r_gripper_palm_link': 51, 'r_gripper_led_frame': 52, 'r_gripper_motor_accelerometer_link': 53, 'r_gripper_tool_frame': 54, 'r_gripper_motor_slider_link': 55, 'r_gripper_motor_screw_link': 56, 'r_gripper_l_finger_link': 57, 'r_gripper_l_finger_tip_link': 58, 'r_gripper_r_finger_link': 59, 'r_gripper_r_finger_tip_link': 60, 'r_gripper_l_finger_tip_frame': 61, 'r_forearm_cam_frame': 62, 'r_forearm_cam_optical_frame': 63, 'l_shoulder_pan_link': 64, 'l_shoulder_lift_link': 65, 'l_upper_arm_roll_link': 66, 'l_upper_arm_link': 67, 'l_elbow_flex_link': 68, 'l_forearm_roll_link': 69, 'l_forearm_link': 70, 'l_wrist_flex_link': 71, 'l_wrist_roll_link': 72, 'l_gripper_palm_link': 73, 'l_gripper_led_frame': 74, 'l_gripper_motor_accelerometer_link': 75, 'l_gripper_tool_frame': 76, 'l_gripper_motor_slider_link': 77, 'l_gripper_motor_screw_link': 78, 'l_gripper_l_finger_link': 79, 'l_gripper_l_finger_tip_link': 80, 'l_gripper_r_finger_link': 81, 'l_gripper_r_finger_tip_link': 82, 'l_gripper_l_finger_tip_frame': 83, 'l_forearm_cam_frame': 84, 'l_forearm_cam_optical_frame': 85, 'torso_lift_motor_screw_link': 86, 'base_footprint': -1}\n"
     ]
    }
   ],
   "source": [
    "pr2 = Object(\"pr2\", ObjectType.ROBOT, \"pr2.urdf\")\n",
    "print(pr2.links)"
   ]
  },
  {
   "cell_type": "markdown",
   "id": "e157eb6f",
   "metadata": {},
   "source": [
    "For links there are similar methods available as for the pose. However, you can only **get** the position and orientation of a link. "
   ]
  },
  {
   "cell_type": "code",
   "execution_count": 20,
   "id": "51b59ffd",
   "metadata": {
    "ExecuteTime": {
     "end_time": "2024-02-13T15:48:12.405601035Z",
     "start_time": "2024-02-13T15:48:12.393127528Z"
    }
   },
   "outputs": [
    {
     "name": "stdout",
     "output_type": "stream",
     "text": [
      "Position: \n",
      "x: -0.05000000447034836\n",
      "y: 0.0\n",
      "z: 0.7906750440597534\n",
      "Orientation: \n",
      "x: 0.0\n",
      "y: 0.0\n",
      "z: 0.0\n",
      "w: 1.0\n",
      "Pose: \n",
      "header: \n",
      "  seq: 0\n",
      "  stamp: \n",
      "    secs: 1707839287\n",
      "    nsecs: 359530448\n",
      "  frame_id: \"map\"\n",
      "pose: \n",
      "  position: \n",
      "    x: -0.05000000447034836\n",
      "    y: 0.0\n",
      "    z: 0.7906750440597534\n",
      "  orientation: \n",
      "    x: 0.0\n",
      "    y: 0.0\n",
      "    z: 0.0\n",
      "    w: 1.0\n"
     ]
    }
   ],
   "source": [
    "print(f\"Position: \\n{pr2.get_link_position('torso_lift_link')}\")\n",
    "\n",
    "print(f\"Orientation: \\n{pr2.get_link_orientation('torso_lift_link')}\")\n",
    "\n",
    "print(f\"Pose: \\n{pr2.get_link_pose('torso_lift_link')}\")"
   ]
  },
  {
   "cell_type": "markdown",
   "id": "ecd9c4a3",
   "metadata": {},
   "source": [
    "Methods available for joints are:\n",
    "\n",
    "  * ```get_joint_state```\n",
    "  * ```set_joint_state```\n",
    "  * ```get_joint_limits```\n",
    "  \n",
    "We will see how these methods work at the example of the torso_lift_joint:"
   ]
  },
  {
   "cell_type": "code",
   "execution_count": 21,
   "id": "38a8aef4",
   "metadata": {
    "ExecuteTime": {
     "end_time": "2024-02-13T15:48:17.635085569Z",
     "start_time": "2024-02-13T15:48:17.622273388Z"
    }
   },
   "outputs": [
    {
     "name": "stdout",
     "output_type": "stream",
     "text": [
      "Joint limits: (0.0, 0.33)\n",
      "Current Joint state: 0.0\n",
      "New Joint state: 0.2\n"
     ]
    }
   ],
   "source": [
    "print(f\"Joint limits: {pr2.get_joint_limits('torso_lift_joint')}\")\n",
    "\n",
    "print(f\"Current Joint state: {pr2.get_joint_state('torso_lift_joint')}\")\n",
    "\n",
    "pr2.set_joint_state(\"torso_lift_joint\", 0.2)\n",
    "\n",
    "print(f\"New Joint state: {pr2.get_joint_state('torso_lift_joint')}\")"
   ]
  },
  {
   "cell_type": "markdown",
   "id": "6d4ee70a",
   "metadata": {},
   "source": [
    "## Misc Methods\n",
    "There are a few methods that don't fit any category but could be helpful anyway. The first two are ```get_color``` and ```set_color```, as the name implies they can be used to get or set the color for specific links or the whole Object. "
   ]
  },
  {
   "cell_type": "code",
   "execution_count": 22,
   "id": "5eee9b8a",
   "metadata": {
    "ExecuteTime": {
     "end_time": "2024-02-13T15:48:23.353315285Z",
     "start_time": "2024-02-13T15:48:23.304114265Z"
    }
   },
   "outputs": [
    {
     "name": "stdout",
     "output_type": "stream",
     "text": [
      "Pr2 forearm color: (0.699999988079071, 0.699999988079071, 0.699999988079071, 1.0)\n"
     ]
    }
   ],
   "source": [
    "print(f\"Pr2 forearm color: {pr2.get_color('r_forearm_link')}\")"
   ]
  },
  {
   "cell_type": "code",
   "execution_count": 23,
   "id": "07aa1c3f",
   "metadata": {
    "ExecuteTime": {
     "end_time": "2024-02-13T15:48:23.729305628Z",
     "start_time": "2024-02-13T15:48:23.697492409Z"
    }
   },
   "outputs": [],
   "source": [
    "pr2.set_color([1, 0, 0], \"r_forearm_link\")"
   ]
  },
  {
   "cell_type": "markdown",
   "id": "ce5d910b",
   "metadata": {},
   "source": [
    "Lastly, there is ```get_AABB```, AABB stands for *A*xis *A*ligned *B*ounding *B*ox. This method returns two points in world coordinates which span a rectangle representing the AABB."
   ]
  },
  {
   "cell_type": "code",
   "execution_count": 24,
   "id": "2a78715b",
   "metadata": {
    "ExecuteTime": {
     "end_time": "2024-02-13T15:48:25.055465631Z",
     "start_time": "2024-02-13T15:48:25.036512083Z"
    }
   },
   "outputs": [
    {
     "data": {
      "text/plain": "((-0.0015000000000000005, -0.0015000000000000005, 0.06949999999999999),\n (0.0015000000000000005, 0.0015000000000000005, 0.0725))"
     },
     "execution_count": 24,
     "metadata": {},
     "output_type": "execute_result"
    }
   ],
   "source": [
    "pr2.get_AABB()"
   ]
  },
  {
   "cell_type": "code",
   "outputs": [],
   "source": [],
   "metadata": {
    "collapsed": false
   },
   "id": "f0e8218a9f6f598a"
  }
 ],
 "metadata": {
  "kernelspec": {
   "display_name": "Python 3",
   "language": "python",
   "name": "python3"
  },
  "language_info": {
   "codemirror_mode": {
    "name": "ipython",
    "version": 3
   },
   "file_extension": ".py",
   "mimetype": "text/x-python",
   "name": "python",
   "nbconvert_exporter": "python",
   "pygments_lexer": "ipython3",
   "version": "3.8.10"
  }
 },
 "nbformat": 4,
 "nbformat_minor": 5
}
