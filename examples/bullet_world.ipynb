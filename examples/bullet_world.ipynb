{
 "cells": [
  {
   "cell_type": "markdown",
   "id": "8d2d6a94",
   "metadata": {},
   "source": [
    "# Bullet World\n",
    "This Notebook will show you the basics of working with the PyCRAM BulletWorld.\n",
    "\n",
    "First we need to import and create a BulletWorld."
   ]
  },
  {
   "cell_type": "code",
   "execution_count": 1,
   "id": "23bbba35",
   "metadata": {
    "ExecuteTime": {
     "end_time": "2024-02-01T16:28:16.307401805Z",
     "start_time": "2024-02-01T16:28:15.499235438Z"
    }
   },
   "outputs": [
    {
     "name": "stderr",
     "output_type": "stream",
     "text": [
      "Unknown attribute \"type\" in /robot[@name='pr2']/link[@name='base_laser_link']\n",
      "Unknown attribute \"type\" in /robot[@name='pr2']/link[@name='wide_stereo_optical_frame']\n",
      "Unknown attribute \"type\" in /robot[@name='pr2']/link[@name='narrow_stereo_optical_frame']\n",
      "Unknown attribute \"type\" in /robot[@name='pr2']/link[@name='laser_tilt_link']\n",
      "Failed to import Giskard messages\n",
      "Could not import RoboKudo messages, RoboKudo interface could not be initialized\n",
      "pybullet build time: Nov 28 2023 23:51:11\n"
     ]
    }
   ],
   "source": [
    "from pycram.bullet_world import BulletWorld\n",
    "from pycram.pose import Pose\n",
    "from pycram.enums import ObjectType, WorldMode\n",
    "\n",
    "world = BulletWorld(mode=WorldMode.GUI)"
   ]
  },
  {
   "cell_type": "markdown",
   "id": "dccaf6ff",
   "metadata": {},
   "source": [
    "This new window is the BulletWorld, PyCRAMs internal physics simulation. You can use the mouse to move the camera around:\n",
    "\n",
    "  * Press the left mouse button to rotate the camera\n",
    "  * Press the right mouse button to move the camera \n",
    "  * Press the middle mouse button (scroll wheel) and move the mouse up or down to zoom\n",
    "    \n",
    "At the moment the BulletWorld only contains a floor, this is spawned by default when creating the BulletWorld. Furthermore, the gravity is set to 9.8 m^2, which is the same gravitation as the one on earth. \n",
    "    "
   ]
  },
  {
   "cell_type": "markdown",
   "id": "4403bf9c",
   "metadata": {},
   "source": [
    "To close the BulletWorld again please use the ```exit``` method since it will also terminate threads running in the background"
   ]
  },
  {
   "cell_type": "code",
   "execution_count": 7,
   "id": "b1e6ed82",
   "metadata": {},
   "outputs": [],
   "source": [
    "world.exit()"
   ]
  },
  {
   "cell_type": "markdown",
   "id": "e0fc7086",
   "metadata": {},
   "source": [
    "To spawn new things in the BulletWorld we need to import the Object class and create and instance of it. "
   ]
  },
  {
   "cell_type": "code",
   "execution_count": 2,
   "id": "48a3aed2",
   "metadata": {
    "ExecuteTime": {
     "end_time": "2024-02-01T16:14:50.629562309Z",
     "start_time": "2024-02-01T16:14:50.621645448Z"
    }
   },
   "outputs": [],
   "source": [
    "from pycram.bullet_world import Object\n",
    "\n",
    "milk = Object(\"milk\", ObjectType.MILK, \"milk.stl\", pose=Pose([0, 0, 1]))"
   ]
  },
  {
   "cell_type": "markdown",
   "id": "8a754f12",
   "metadata": {},
   "source": [
    "As you can see this spawns a milk floating in the air. What we did here was create a new Object which has the name \"milk\" as well as the type ```ObjectType.MILK ``` , is spawned from the file \"milk.stl\" and is at the position [0, 0, 1]. \n",
    "\n",
    "The type of an Object can either be from the enum ObjectType or a string. However, it is recommended to use the enum since this would make for a more consistent naming of types which makes it easier to work with types. But since the types of the enum might not fit your case you can also use strings. \n",
    "\n",
    "The first three of these parameters are required while the position is optional. As you can see it was sufficient to only specify the filename for PyCRAM to spawn the milk mesh. When only providing a filename, PyCRAM will search in its resource directory for a matching file and use it. \n",
    "\n",
    "For a complete list of all parameters that can be used to crate an Object please check the documentation. \n",
    "\n",
    "\n",
    "\n",
    "Since the Object is spawned, we can now interact with it. First we want to move it around and change its orientation"
   ]
  },
  {
   "cell_type": "code",
   "execution_count": 3,
   "id": "4ae2bc42",
   "metadata": {
    "ExecuteTime": {
     "end_time": "2024-01-25T18:29:23.208599020Z",
     "start_time": "2024-01-25T18:29:23.206209707Z"
    }
   },
   "outputs": [],
   "source": [
    "milk.set_position(Pose([1, 1, 1]))"
   ]
  },
  {
   "cell_type": "code",
   "execution_count": 4,
   "id": "4adc7b11",
   "metadata": {
    "ExecuteTime": {
     "end_time": "2024-01-25T18:29:23.675871190Z",
     "start_time": "2024-01-25T18:29:23.673804147Z"
    }
   },
   "outputs": [],
   "source": [
    "milk.set_orientation(Pose(orientation=[1,0, 0, 1]))"
   ]
  },
  {
   "cell_type": "code",
   "execution_count": 5,
   "id": "f91d1809",
   "metadata": {
    "ExecuteTime": {
     "end_time": "2024-01-25T18:29:24.180713247Z",
     "start_time": "2024-01-25T18:29:24.175368603Z"
    }
   },
   "outputs": [],
   "source": [
    "milk.set_pose(Pose([0, 0, 1], [0, 0, 0, 1]))"
   ]
  },
  {
   "cell_type": "markdown",
   "id": "5805be38",
   "metadata": {},
   "source": [
    "In the same sense as setting the position or orientation, you can also get the position and orientation."
   ]
  },
  {
   "cell_type": "code",
   "execution_count": 6,
   "id": "1db2aa78",
   "metadata": {
    "ExecuteTime": {
     "end_time": "2024-01-25T18:29:58.869360443Z",
     "start_time": "2024-01-25T18:29:58.827502541Z"
    }
   },
   "outputs": [
    {
     "name": "stdout",
     "output_type": "stream",
     "text": [
      "Position: \n",
      "x: 0.0\n",
      "y: 0.0\n",
      "z: 1.0\n",
      "Orientation: \n",
      "x: 0.0\n",
      "y: 0.0\n",
      "z: 0.0\n",
      "w: 1.0\n",
      "Pose: \n",
      "header: \n",
      "  seq: 0\n",
      "  stamp: \n",
      "    secs: 1706207364\n",
      "    nsecs: 174507617\n",
      "  frame_id: \"map\"\n",
      "pose: \n",
      "  position: \n",
      "    x: 0.0\n",
      "    y: 0.0\n",
      "    z: 1.0\n",
      "  orientation: \n",
      "    x: 0.0\n",
      "    y: 0.0\n",
      "    z: 0.0\n",
      "    w: 1.0\n"
     ]
    }
   ],
   "source": [
    "print(f\"Position: \\n{milk.get_position()}\")\n",
    "\n",
    "print(f\"Orientation: \\n{milk.get_orientation()}\")\n",
    "\n",
    "print(f\"Pose: \\n{milk.get_pose()}\")"
   ]
  },
  {
   "cell_type": "markdown",
   "id": "68c02db9",
   "metadata": {},
   "source": [
    "## Attachments\n",
    "You can attach Objects to each other simply by calling the attach method on one of them and providing the other as parameter. Since attachments are bi-directional it doesn't matter on which Object you call the method. \n",
    "\n",
    "First we need another Object"
   ]
  },
  {
   "cell_type": "code",
   "execution_count": 7,
   "id": "10a493b1",
   "metadata": {
    "ExecuteTime": {
     "end_time": "2024-01-25T18:30:02.056106044Z",
     "start_time": "2024-01-25T18:30:02.001333744Z"
    }
   },
   "outputs": [],
   "source": [
    "cereal = Object(\"cereal\", ObjectType.BREAKFAST_CEREAL, \"breakfast_cereal.stl\", pose=Pose([1, 0, 1]))"
   ]
  },
  {
   "cell_type": "code",
   "execution_count": 8,
   "id": "275372e3",
   "metadata": {
    "ExecuteTime": {
     "end_time": "2024-01-25T18:30:03.288290549Z",
     "start_time": "2024-01-25T18:30:03.283992204Z"
    }
   },
   "outputs": [],
   "source": [
    "milk.attach(cereal)"
   ]
  },
  {
   "cell_type": "markdown",
   "id": "5577c567",
   "metadata": {},
   "source": [
    "Now since they are attached to each other, if we move one of them the other will move in conjunction."
   ]
  },
  {
   "cell_type": "code",
   "execution_count": 9,
   "id": "dff85834",
   "metadata": {
    "ExecuteTime": {
     "end_time": "2024-01-25T18:30:05.029258354Z",
     "start_time": "2024-01-25T18:30:05.026329993Z"
    }
   },
   "outputs": [],
   "source": [
    "milk.set_position(Pose([1,1,1]))"
   ]
  },
  {
   "cell_type": "markdown",
   "id": "196bd705",
   "metadata": {},
   "source": [
    "In the same way the Object can also be detached, just call the detach method on one of the two attached Objects."
   ]
  },
  {
   "cell_type": "code",
   "execution_count": 10,
   "id": "b0bba145",
   "metadata": {
    "ExecuteTime": {
     "end_time": "2024-01-25T18:30:06.737363899Z",
     "start_time": "2024-01-25T18:30:06.734694119Z"
    }
   },
   "outputs": [
    {
     "name": "stdout",
     "output_type": "stream",
     "text": [
      "Removing constraint with id:  1\n"
     ]
    }
   ],
   "source": [
    "cereal.detach(milk)"
   ]
  },
  {
   "cell_type": "markdown",
   "id": "e5e44a67",
   "metadata": {},
   "source": [
    "## Links and Joints\n",
    "Objects spawned from mesh files do not have links or joints, but if you spawn things from a URDF like a robot they will have a lot of links and joints. Every Object has two dictionaries as attributes, namely ```links``` and ```joints``` which contain every link or joint as key and a unique id, used by PyBullet, as value. \n",
    "\n",
    "We will see this at the example of the PR2:"
   ]
  },
  {
   "cell_type": "code",
   "execution_count": 11,
   "id": "edf5cb72",
   "metadata": {
    "ExecuteTime": {
     "end_time": "2024-01-25T18:30:13.548802172Z",
     "start_time": "2024-01-25T18:30:13.540787905Z"
    }
   },
   "outputs": [
    {
     "name": "stdout",
     "output_type": "stream",
     "text": [
      "{'base_link': <pycram.world.Link object at 0x7f694d986d30>, 'base_footprint': <pycram.world.RootLink object at 0x7f694d986d00>, 'base_bellow_link': <pycram.world.Link object at 0x7f694d986cd0>, 'base_laser_link': <pycram.world.Link object at 0x7f694d986ca0>, 'fl_caster_rotation_link': <pycram.world.Link object at 0x7f694d986c70>, 'fl_caster_l_wheel_link': <pycram.world.Link object at 0x7f694d986c40>, 'fl_caster_r_wheel_link': <pycram.world.Link object at 0x7f694d986c10>, 'fr_caster_rotation_link': <pycram.world.Link object at 0x7f694d986be0>, 'fr_caster_l_wheel_link': <pycram.world.Link object at 0x7f694d986bb0>, 'fr_caster_r_wheel_link': <pycram.world.Link object at 0x7f694d986b80>, 'bl_caster_rotation_link': <pycram.world.Link object at 0x7f694d986b50>, 'bl_caster_l_wheel_link': <pycram.world.Link object at 0x7f694d986b20>, 'bl_caster_r_wheel_link': <pycram.world.Link object at 0x7f694d986af0>, 'br_caster_rotation_link': <pycram.world.Link object at 0x7f694d986ac0>, 'br_caster_l_wheel_link': <pycram.world.Link object at 0x7f694d986a90>, 'br_caster_r_wheel_link': <pycram.world.Link object at 0x7f694d986a60>, 'torso_lift_link': <pycram.world.Link object at 0x7f694d986a30>, 'l_torso_lift_side_plate_link': <pycram.world.Link object at 0x7f694d986a00>, 'r_torso_lift_side_plate_link': <pycram.world.Link object at 0x7f694d9869d0>, 'torso_lift_motor_screw_link': <pycram.world.Link object at 0x7f694d9869a0>, 'imu_link': <pycram.world.Link object at 0x7f694d986970>, 'head_pan_link': <pycram.world.Link object at 0x7f694d986940>, 'head_tilt_link': <pycram.world.Link object at 0x7f694d986910>, 'head_plate_frame': <pycram.world.Link object at 0x7f694d9868e0>, 'sensor_mount_link': <pycram.world.Link object at 0x7f694d986880>, 'high_def_frame': <pycram.world.Link object at 0x7f694d9868b0>, 'high_def_optical_frame': <pycram.world.Link object at 0x7f694d986850>, 'double_stereo_link': <pycram.world.Link object at 0x7f694d986820>, 'wide_stereo_link': <pycram.world.Link object at 0x7f694d9867f0>, 'wide_stereo_optical_frame': <pycram.world.Link object at 0x7f694d9867c0>, 'wide_stereo_l_stereo_camera_frame': <pycram.world.Link object at 0x7f694d986790>, 'wide_stereo_l_stereo_camera_optical_frame': <pycram.world.Link object at 0x7f694d986760>, 'wide_stereo_r_stereo_camera_frame': <pycram.world.Link object at 0x7f694d986730>, 'wide_stereo_r_stereo_camera_optical_frame': <pycram.world.Link object at 0x7f694d986700>, 'narrow_stereo_link': <pycram.world.Link object at 0x7f694d9866d0>, 'narrow_stereo_optical_frame': <pycram.world.Link object at 0x7f694d9866a0>, 'narrow_stereo_l_stereo_camera_frame': <pycram.world.Link object at 0x7f694d986670>, 'narrow_stereo_l_stereo_camera_optical_frame': <pycram.world.Link object at 0x7f694d986640>, 'narrow_stereo_r_stereo_camera_frame': <pycram.world.Link object at 0x7f694d986610>, 'narrow_stereo_r_stereo_camera_optical_frame': <pycram.world.Link object at 0x7f694d9865e0>, 'projector_wg6802418_frame': <pycram.world.Link object at 0x7f694d9865b0>, 'projector_wg6802418_child_frame': <pycram.world.Link object at 0x7f694d986580>, 'laser_tilt_mount_link': <pycram.world.Link object at 0x7f694d986490>, 'laser_tilt_link': <pycram.world.Link object at 0x7f694d986460>, 'r_shoulder_pan_link': <pycram.world.Link object at 0x7f694d986430>, 'r_shoulder_lift_link': <pycram.world.Link object at 0x7f694d986400>, 'r_upper_arm_roll_link': <pycram.world.Link object at 0x7f694d9863d0>, 'r_upper_arm_link': <pycram.world.Link object at 0x7f694d9863a0>, 'r_forearm_roll_link': <pycram.world.Link object at 0x7f694d986370>, 'r_elbow_flex_link': <pycram.world.Link object at 0x7f694d986340>, 'r_forearm_link': <pycram.world.Link object at 0x7f694d986310>, 'r_wrist_flex_link': <pycram.world.Link object at 0x7f694d9862e0>, 'r_wrist_roll_link': <pycram.world.Link object at 0x7f694d9862b0>, 'r_gripper_palm_link': <pycram.world.Link object at 0x7f694d986280>, 'r_gripper_led_frame': <pycram.world.Link object at 0x7f694d986250>, 'r_gripper_motor_accelerometer_link': <pycram.world.Link object at 0x7f694d986220>, 'r_gripper_tool_frame': <pycram.world.Link object at 0x7f694d9861f0>, 'r_gripper_motor_slider_link': <pycram.world.Link object at 0x7f694d9861c0>, 'r_gripper_motor_screw_link': <pycram.world.Link object at 0x7f694d986190>, 'r_gripper_l_finger_link': <pycram.world.Link object at 0x7f694d986160>, 'r_gripper_r_finger_link': <pycram.world.Link object at 0x7f694d986130>, 'r_gripper_l_finger_tip_link': <pycram.world.Link object at 0x7f694d9860d0>, 'r_gripper_r_finger_tip_link': <pycram.world.Link object at 0x7f694d986100>, 'r_gripper_l_finger_tip_frame': <pycram.world.Link object at 0x7f694d9860a0>, 'l_shoulder_pan_link': <pycram.world.Link object at 0x7f694d986070>, 'l_shoulder_lift_link': <pycram.world.Link object at 0x7f694d986040>, 'l_upper_arm_roll_link': <pycram.world.Link object at 0x7f69508d1fd0>, 'l_upper_arm_link': <pycram.world.Link object at 0x7f69508d1fa0>, 'l_forearm_roll_link': <pycram.world.Link object at 0x7f69508d1f70>, 'l_elbow_flex_link': <pycram.world.Link object at 0x7f69508d1f40>, 'l_forearm_link': <pycram.world.Link object at 0x7f69508d1f10>, 'l_wrist_flex_link': <pycram.world.Link object at 0x7f69508d1ee0>, 'l_wrist_roll_link': <pycram.world.Link object at 0x7f69508d1eb0>, 'l_gripper_palm_link': <pycram.world.Link object at 0x7f69508d1e80>, 'l_gripper_led_frame': <pycram.world.Link object at 0x7f69508d1e20>, 'l_gripper_motor_accelerometer_link': <pycram.world.Link object at 0x7f69508d1e50>, 'l_gripper_tool_frame': <pycram.world.Link object at 0x7f69508d1dc0>, 'l_gripper_motor_slider_link': <pycram.world.Link object at 0x7f69508d1df0>, 'l_gripper_motor_screw_link': <pycram.world.Link object at 0x7f69508d1d90>, 'l_gripper_l_finger_link': <pycram.world.Link object at 0x7f69508d1d60>, 'l_gripper_r_finger_link': <pycram.world.Link object at 0x7f69508d1d00>, 'l_gripper_l_finger_tip_link': <pycram.world.Link object at 0x7f69508d1d30>, 'l_gripper_r_finger_tip_link': <pycram.world.Link object at 0x7f69508d1ca0>, 'l_gripper_l_finger_tip_frame': <pycram.world.Link object at 0x7f69508d1cd0>, 'l_forearm_cam_frame': <pycram.world.Link object at 0x7f69508d1c70>, 'l_forearm_cam_optical_frame': <pycram.world.Link object at 0x7f69508d1c40>, 'r_forearm_cam_frame': <pycram.world.Link object at 0x7f69508d1c10>, 'r_forearm_cam_optical_frame': <pycram.world.Link object at 0x7f69508d1be0>}\n"
     ]
    }
   ],
   "source": [
    "pr2 = Object(\"pr2\", ObjectType.ROBOT, \"pr2.urdf\")\n",
    "print(pr2.links)"
   ]
  },
  {
   "cell_type": "code",
   "outputs": [],
   "source": [],
   "metadata": {
    "collapsed": false
   },
   "id": "e896223230860878"
  },
  {
   "cell_type": "markdown",
   "id": "e157eb6f",
   "metadata": {},
   "source": [
    "For links there are similar methods available as for the pose. However, you can only **get** the position and orientation of a link. "
   ]
  },
  {
   "cell_type": "code",
   "execution_count": 12,
   "id": "51b59ffd",
   "metadata": {
    "ExecuteTime": {
     "end_time": "2024-01-25T18:30:26.283263579Z",
     "start_time": "2024-01-25T18:30:26.259577324Z"
    }
   },
   "outputs": [
    {
     "name": "stdout",
     "output_type": "stream",
     "text": [
      "Position: \n",
      "x: -0.05000000447034836\n",
      "y: 0.0\n",
      "z: 0.7906750440597534\n",
      "Orientation: \n",
      "x: 0.0\n",
      "y: 0.0\n",
      "z: 0.0\n",
      "w: 1.0\n",
      "Pose: \n",
      "header: \n",
      "  seq: 0\n",
      "  stamp: \n",
      "    secs: 1706207426\n",
      "    nsecs: 257559537\n",
      "  frame_id: \"map\"\n",
      "pose: \n",
      "  position: \n",
      "    x: -0.05000000447034836\n",
      "    y: 0.0\n",
      "    z: 0.7906750440597534\n",
      "  orientation: \n",
      "    x: 0.0\n",
      "    y: 0.0\n",
      "    z: 0.0\n",
      "    w: 1.0\n"
     ]
    }
   ],
   "source": [
    "print(f\"Position: \\n{pr2.get_link_position('torso_lift_link')}\")\n",
    "\n",
    "print(f\"Orientation: \\n{pr2.get_link_orientation('torso_lift_link')}\")\n",
    "\n",
    "print(f\"Pose: \\n{pr2.get_link_pose('torso_lift_link')}\")"
   ]
  },
  {
   "cell_type": "markdown",
   "id": "ecd9c4a3",
   "metadata": {},
   "source": [
    "Methods available for joints are:\n",
    "\n",
    "  * ```get_joint_state```\n",
    "  * ```set_joint_state```\n",
    "  * ```get_joint_limits```\n",
    "  \n",
    "We will see how these methods work at the example of the torso_lift_joint:"
   ]
  },
  {
   "cell_type": "code",
   "execution_count": 13,
   "id": "38a8aef4",
   "metadata": {
    "ExecuteTime": {
     "end_time": "2024-01-25T18:30:51.633276335Z",
     "start_time": "2024-01-25T18:30:51.590393104Z"
    }
   },
   "outputs": [
    {
     "name": "stdout",
     "output_type": "stream",
     "text": [
      "Joint limits: (0.0, 0.33)\n",
      "Current Joint state: 0.0\n",
      "New Joint state: 0.2\n"
     ]
    }
   ],
   "source": [
    "print(f\"Joint limits: {pr2.get_joint_limits('torso_lift_joint')}\")\n",
    "\n",
    "print(f\"Current Joint state: {pr2.get_joint_position('torso_lift_joint')}\")\n",
    "\n",
    "pr2.set_joint_position(\"torso_lift_joint\", 0.2)\n",
    "\n",
    "print(f\"New Joint state: {pr2.get_joint_position('torso_lift_joint')}\")"
   ]
  },
  {
   "cell_type": "markdown",
   "id": "6d4ee70a",
   "metadata": {},
   "source": [
    "## Misc Methods\n",
    "There are a few methods that don't fit any category but could be helpful anyway. The first two are ```get_color``` and ```set_color```, as the name implies they can be used to get or set the color for specific links or the whole Object. "
   ]
  },
  {
   "cell_type": "code",
   "execution_count": 14,
   "id": "5eee9b8a",
   "metadata": {
    "ExecuteTime": {
     "end_time": "2024-01-25T18:30:57.200886492Z",
     "start_time": "2024-01-25T18:30:57.198278714Z"
    }
   },
   "outputs": [
    {
     "name": "stdout",
     "output_type": "stream",
     "text": [
      "Pr2 forearm color: Color(R=0.699999988079071, G=0.699999988079071, B=0.699999988079071, A=1.0)\n"
     ]
    }
   ],
   "source": [
    "print(f\"Pr2 forearm color: {pr2.get_link_color('r_forearm_link')}\")"
   ]
  },
  {
   "cell_type": "code",
   "execution_count": 15,
   "id": "07aa1c3f",
   "metadata": {
    "ExecuteTime": {
     "end_time": "2024-01-25T18:30:59.531448130Z",
     "start_time": "2024-01-25T18:30:59.523750241Z"
    }
   },
   "outputs": [],
   "source": [
    "pr2.set_link_color(\"r_forearm_link\", [1, 0, 0])"
   ]
  },
  {
   "cell_type": "markdown",
   "id": "ce5d910b",
   "metadata": {},
   "source": [
    "Lastly, there is ```get_AABB```, AABB stands for *A*xis *A*ligned *B*ounding *B*ox. This method returns two points in world coordinates which span a rectangle representing the AABB."
   ]
  },
  {
   "cell_type": "code",
   "execution_count": 16,
   "id": "2a78715b",
   "metadata": {
    "ExecuteTime": {
     "end_time": "2024-01-25T18:31:05.700993547Z",
     "start_time": "2024-01-25T18:31:05.677436085Z"
    }
   },
   "outputs": [
    {
     "data": {
      "text/plain": "AxisAlignedBoundingBox(min_x=-0.0015000000000000005, min_y=-0.0015000000000000005, min_z=0.06949999999999999, max_x=0.0015000000000000005, max_y=0.0015000000000000005, max_z=0.0725)"
     },
     "execution_count": 16,
     "metadata": {},
     "output_type": "execute_result"
    }
   ],
   "source": [
    "pr2.get_axis_aligned_bounding_box()"
   ]
  }
 ],
 "metadata": {
  "kernelspec": {
   "display_name": "Python 3",
   "language": "python",
   "name": "python3"
  },
  "language_info": {
   "codemirror_mode": {
    "name": "ipython",
    "version": 3
   },
   "file_extension": ".py",
   "mimetype": "text/x-python",
   "name": "python",
   "nbconvert_exporter": "python",
   "pygments_lexer": "ipython3",
   "version": "3.8.10"
  }
 },
 "nbformat": 4,
 "nbformat_minor": 5
}
