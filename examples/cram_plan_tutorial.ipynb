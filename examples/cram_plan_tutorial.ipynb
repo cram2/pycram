{
 "cells": [
  {
   "cell_type": "markdown",
   "metadata": {},
   "source": [
    "# TaskTree Tutorial\n",
    "\n",
    "In this tutorial we will walk through the capabilities of task trees in pycram.\n",
    "\n",
    "First we have to import the necessary functionality from pycram."
   ]
  },
  {
   "cell_type": "code",
   "execution_count": 1,
   "metadata": {
    "ExecuteTime": {
     "end_time": "2023-04-20T16:11:39.975025Z",
     "start_time": "2023-04-20T16:11:39.974924Z"
    },
    "collapsed": true
   },
   "outputs": [
    {
     "name": "stderr",
     "output_type": "stream",
     "text": [
      "pybullet build time: Sep 20 2021 20:33:29\n",
      "Unknown attribute \"type\" in /robot[@name='pr2']/link[@name='base_laser_link']\n",
      "Unknown attribute \"type\" in /robot[@name='pr2']/link[@name='wide_stereo_optical_frame']\n",
      "Unknown attribute \"type\" in /robot[@name='pr2']/link[@name='narrow_stereo_optical_frame']\n",
      "Unknown attribute \"type\" in /robot[@name='pr2']/link[@name='laser_tilt_link']\n",
      "Unknown attribute \"type\" in /robot[@name='pr2']/link[@name='base_laser_link']\n",
      "Unknown attribute \"type\" in /robot[@name='pr2']/link[@name='wide_stereo_optical_frame']\n",
      "Unknown attribute \"type\" in /robot[@name='pr2']/link[@name='narrow_stereo_optical_frame']\n",
      "Unknown attribute \"type\" in /robot[@name='pr2']/link[@name='laser_tilt_link']\n"
     ]
    }
   ],
   "source": [
    "from pycram.bullet_world import BulletWorld\n",
    "from pycram.robot_descriptions import robot_description\n",
    "import pycram.task\n",
    "from pycram.resolver.plans import Arms\n",
    "from pycram.designators.action_designator import *\n",
    "from pycram.designators.location_designator import *\n",
    "from pycram.process_module import simulated_robot\n",
    "from pycram.designators.object_designator import *\n",
    "import anytree\n",
    "import pycram.plan_failures"
   ]
  },
  {
   "cell_type": "markdown",
   "metadata": {},
   "source": [
    "Next we will create a bullet world with a PR2 in a kitchen containing milk and cereal."
   ]
  },
  {
   "cell_type": "code",
   "execution_count": null,
   "metadata": {},
   "outputs": [],
   "source": []
  },
  {
   "cell_type": "code",
   "execution_count": 2,
   "metadata": {
    "ExecuteTime": {
     "end_time": "2023-04-20T16:11:55.868162Z",
     "start_time": "2023-04-20T16:11:55.868029Z"
    }
   },
   "outputs": [],
   "source": [
    "world = BulletWorld()\n",
    "robot = Object(robot_description.name, \"robot\", robot_description.name + \".urdf\")\n",
    "robot_desig = ObjectDesignatorDescription(names=['pr2']).resolve()\n",
    "apartment = Object(\"apartment\", \"environment\", \"/home/abassi/cram_ws/src/iai_maps/iai_apartment/urdf/apartment.urdf\", position=[-1.5, -2.5, 0])\n",
    "apartment_desig = ObjectDesignatorDescription(names=['apartment']).resolve()\n",
    "table_top = apartment.get_link_position(\"cooktop\")\n",
    "# milk = Object(\"milk\", \"milk\", \"milk.stl\", position=[table_top[0]-0.15, table_top[1], table_top[2]])\n",
    "# milk.set_position(position=milk.get_position(), base=True)\n",
    "# cereal = Object(\"cereal\", \"cereal\", \"breakfast_cereal.stl\", position=table_top)\n",
    "# cereal.set_position(position=[table_top[0]-0.1, table_top[1] + 0.5, table_top[2]], base=True)\n",
    "# milk_desig = ObjectDesignator(ObjectDesignatorDescription(name=\"milk\", type=\"milk\"))\n",
    "# cereal_desig = ObjectDesignator(ObjectDesignatorDescription(name=\"cereal\", type=\"cereal\"))"
   ]
  },
  {
   "cell_type": "code",
   "execution_count": 22,
   "metadata": {
    "ExecuteTime": {
     "end_time": "2023-04-20T16:40:40.071476Z",
     "start_time": "2023-04-20T16:40:40.071396Z"
    }
   },
   "outputs": [],
   "source": [
    "import numpy as np\n",
    "\n",
    "def get_n_random_positions(pose_list, n=4, dist=0.5, random=True):\n",
    "    positions = [pos[0] for pos in pose_list[:1000]]\n",
    "    all_indices = list(range(len(positions)))\n",
    "    print(len(all_indices))\n",
    "    pos_idx = np.random.choice(all_indices) if random else all_indices[0]\n",
    "    all_indices.remove(pos_idx)\n",
    "    n_positions = np.zeros((n,3))\n",
    "    for i in range(n):\n",
    "        n_positions[i,:] = positions[pos_idx]\n",
    "    found_count = 1\n",
    "    found_indices = [pos_idx]\n",
    "    for i in range(len(positions)-1):\n",
    "        pos_idx = np.random.choice(all_indices) if random else all_indices[i]\n",
    "        diff = np.absolute(np.linalg.norm(n_positions - positions[pos_idx], axis=1))\n",
    "        # print(diff)\n",
    "        min_diff = np.min(diff)\n",
    "        # print(min_diff)\n",
    "        if min_diff >= dist:\n",
    "            # print(\"found\")\n",
    "            n_positions[found_count,:] = positions[pos_idx]\n",
    "            found_indices.append(pos_idx)\n",
    "            found_count += 1\n",
    "        all_indices.remove(pos_idx)\n",
    "        if found_count == n:\n",
    "            break\n",
    "    found_poses = [pose_list[i] for i in found_indices]\n",
    "    # found_positions = [positions[i] for i in found_indices]\n",
    "    # for i in range(len(found_positions)):\n",
    "    #     print(found_poses[i][0])\n",
    "    #     print(found_positions[i])\n",
    "    #     assert np.allclose(found_positions[i],found_poses[i][0])\n",
    "    # for i in range(len(found_poses)):\n",
    "    #     for j in range(i+1,len(found_poses)):\n",
    "    #         pos1 = np.array(found_poses[i][0])\n",
    "    #         pos2 = np.array(found_poses[j][0])\n",
    "    #         diff = np.absolute(np.linalg.norm(pos1 - pos2))\n",
    "    #         print(diff)\n",
    "    #         assert diff >= dist\n",
    "    return found_poses\n",
    "\n",
    "\n"
   ]
  },
  {
   "cell_type": "code",
   "execution_count": 29,
   "metadata": {
    "ExecuteTime": {
     "end_time": "2023-04-20T16:40:54.196536Z",
     "start_time": "2023-04-20T16:40:54.196396Z"
    }
   },
   "outputs": [
    {
     "name": "stdout",
     "output_type": "stream",
     "text": [
      "1000\n",
      "bowl\n",
      "([1.4647347927093506, -1.3561391830444336, 0.921999990940094], [0.0, 0.0, 0.755535559475718, 0.6551076387645878])\n",
      "milk\n",
      "([1.3690669536590576, 1.3640167713165283, 0.921999990940094], [-0.0, 0.0, 0.7419867057523215, -0.670414594476297])\n",
      "breakfast_cereal\n",
      "([0.9295452237129211, 1.664717197418213, 0.921999990940094], [-0.0, 0.0, 0.6296505072306592, -0.7768785225144107])\n",
      "spoon\n",
      "([1.6883658170700073, 0.9235076308250427, 0.921999990940094], [-0.0, 0.0, 0.866722037404449, -0.4987914492826445])\n",
      "[([1.4647347927093506, -1.3561391830444336, 0.921999990940094], [0.0, 0.0, 0.755535559475718, 0.6551076387645878]), ([1.3690669536590576, 1.3640167713165283, 0.921999990940094], [-0.0, 0.0, 0.7419867057523215, -0.670414594476297]), ([0.9295452237129211, 1.664717197418213, 0.921999990940094], [-0.0, 0.0, 0.6296505072306592, -0.7768785225144107]), ([1.6883658170700073, 0.9235076308250427, 0.921999990940094], [-0.0, 0.0, 0.866722037404449, -0.4987914492826445])]\n"
     ]
    }
   ],
   "source": [
    "from pycram.costmaps import SemanticCostmap\n",
    "from pycram.pose_generator_and_validator import pose_generator\n",
    "scm = SemanticCostmap(apartment,\"island_countertop\")\n",
    "poses_list = list(pose_generator(scm, number_of_samples=-1))\n",
    "poses_list.sort(reverse=True, key=lambda x: np.linalg.norm(x[0]))\n",
    "object_poses = get_n_random_positions(poses_list)\n",
    "object_names = [\"bowl\", \"milk\", \"breakfast_cereal\", \"spoon\"]\n",
    "objects = {}\n",
    "object_desig = {}\n",
    "for obj_name, obj_pose in zip(object_names, object_poses):\n",
    "    print(obj_name)\n",
    "    print(obj_pose)\n",
    "    objects[obj_name] = Object(obj_name, obj_name, obj_name+\".stl\", position=[obj_pose[0][0], obj_pose[0][1], table_top[2]])\n",
    "    objects[obj_name].move_base_to_origin_pos()\n",
    "    objects[obj_name].original_pose = objects[obj_name].get_position_and_orientation()\n",
    "    object_desig[obj_name] = ObjectDesignatorDescription(names=[obj_name], types=[obj_name]).resolve()\n",
    "print(object_poses)"
   ]
  },
  {
   "cell_type": "markdown",
   "metadata": {},
   "source": [
    "If You want to visualize all apartment frames"
   ]
  },
  {
   "cell_type": "code",
   "execution_count": 10,
   "metadata": {
    "ExecuteTime": {
     "end_time": "2023-04-20T15:55:24.448172Z",
     "start_time": "2023-04-20T15:55:24.448016Z"
    }
   },
   "outputs": [],
   "source": [
    "import pybullet as p\n",
    "for link_name in apartment.links.keys():\n",
    "    world.add_vis_axis(apartment.get_link_pose(link_name))\n",
    "    p.addUserDebugText(link_name, apartment.get_link_position(link_name))"
   ]
  },
  {
   "cell_type": "code",
   "execution_count": 7,
   "metadata": {
    "ExecuteTime": {
     "end_time": "2023-04-14T18:10:34.708807Z",
     "start_time": "2023-04-14T18:10:23.815102Z"
    }
   },
   "outputs": [],
   "source": [
    "world.remove_vis_axis()\n",
    "p.removeAllUserDebugItems()"
   ]
  },
  {
   "cell_type": "markdown",
   "metadata": {},
   "source": [
    "Finally, we create a plan where the robot parks his arms, walks to the kitchen counter and picks the thingy. Then we execute the plan."
   ]
  },
  {
   "cell_type": "markdown",
   "metadata": {},
   "source": []
  },
  {
   "cell_type": "code",
   "execution_count": 9,
   "metadata": {
    "ExecuteTime": {
     "end_time": "2023-04-20T15:54:48.890670Z",
     "start_time": "2023-04-20T15:54:48.890550Z"
    }
   },
   "outputs": [
    {
     "name": "stdout",
     "output_type": "stream",
     "text": [
      "\n",
      "<class 'StopIteration'>\n",
      "\n",
      "no solution\n",
      "\n",
      "<class 'StopIteration'>\n",
      "\n",
      "no solution\n",
      "\n",
      "<class 'StopIteration'>\n",
      "\n",
      "no solution\n",
      "\n",
      "<class 'pycram.external_interfaces.ik.IKError'>\n",
      "Position ((1.0674792528152466, -0.059463053941726685, -0.052117444574832916), (-3.810604887188873e-10, 5.370975886265228e-10, 0.9858646988868713, 0.16754356026649475)) in frame 'torso_lift_link' is not reachable for end effector\n",
      "no solution\n",
      "<class 'StopIteration'>\n",
      "\n",
      "no solution\n",
      "[0.25, 0.3, 0.3, 0.3]\n"
     ]
    }
   ],
   "source": [
    "from pycram.external_interfaces.ik import IKError\n",
    "@pycram.task.with_tree\n",
    "def plan(obj, obj_desig, torso=0.2, place=\"countertop\"):\n",
    "    world.reset_bullet_world()\n",
    "    with simulated_robot:\n",
    "        ParkArmsActionPerformable(Arms.BOTH).perform()\n",
    "\n",
    "        MoveTorsoActionPerformable(torso).perform()\n",
    "        location = CostmapLocation(target=obj_desig, reachable_for=robot_desig)\n",
    "        pose = location.resolve()\n",
    "        print()\n",
    "        NavigateActionPerformable(pose.pose).perform()\n",
    "        ParkArmsActionPerformable(Arms.BOTH).perform()\n",
    "        good_torsos.append(torso)\n",
    "        picked_up_arm = pose.reachable_arms[0]\n",
    "        PickUpActionPerformable(object_designator=obj_desig, arm=pose.reachable_arms[0], grasp=\"front\").perform()\n",
    "\n",
    "        ParkArmsActionPerformable(Arms.BOTH).perform()\n",
    "        scm = SemanticCostmapLocation(place, apartment_desig, obj_desig)\n",
    "        pose_island = scm.resolve()\n",
    "\n",
    "        place_location = CostmapLocation(target=pose_island.pose, reachable_for=robot_desig, reachable_arm=picked_up_arm)\n",
    "        pose = place_location.resolve()\n",
    "\n",
    "        NavigateActionPerformable(pose.pose).perform()\n",
    "\n",
    "        PlaceActionPerformable(object_designator=obj_desig, target_location=pose_island.pose, arm=picked_up_arm).perform()\n",
    "\n",
    "        ParkArmsActionPerformable(Arms.BOTH).perform()\n",
    "\n",
    "good_torsos = []\n",
    "for obj_name in object_names:\n",
    "    done = False\n",
    "    torso = 0.25 if len(good_torsos) == 0 else good_torsos[-1]\n",
    "    while not done:\n",
    "        try:\n",
    "            plan(objects[obj_name], object_desig[obj_name], torso=torso, place=\"island_countertop\")\n",
    "            done = True\n",
    "            objects[obj_name].original_pose = objects[obj_name].get_position_and_orientation()\n",
    "        except (StopIteration,IKError) as e:\n",
    "            print(type(e))\n",
    "            print(e)\n",
    "            print(\"no solution\")\n",
    "            torso += 0.05\n",
    "            if torso > 0.3:\n",
    "                break\n",
    "print(good_torsos)"
   ]
  },
  {
   "cell_type": "markdown",
   "metadata": {},
   "source": []
  },
  {
   "cell_type": "markdown",
   "metadata": {},
   "source": [
    "Now we get the task tree from its module and render it. Rendering can be done with any render method described in the anytree package. We will use ascii rendering here for ease of displaying."
   ]
  },
  {
   "cell_type": "code",
   "execution_count": 4,
   "metadata": {
    "ExecuteTime": {
     "end_time": "2023-04-13T10:49:56.924918Z",
     "start_time": "2023-04-13T10:49:56.916067Z"
    }
   },
   "outputs": [
    {
     "name": "stdout",
     "output_type": "stream",
     "text": [
      "no_operation()\n",
      "+-- plan()\n",
      "    |-- <pycram.designators.action_designator.ParkArmsAction object at 0x7f5ea8453a30>.park_arms(arms = Arms.BOTH)\n",
      "    |-- <pycram.designators.action_designator.NavigateAction object at 0x7f5ea8453f70>.navigate(target = [0.7199999690055847, 1.0399999618530273, 0.0], orientation = [-0.0, 0.0, 0.03442140918758331, -0.9994074077119606])\n",
      "    |-- <pycram.designators.action_designator.ParkArmsAction object at 0x7f5ea8453d30>.park_arms(arms = Arms.BOTH)\n",
      "    |-- <pycram.designators.action_designator.PickUpAction object at 0x7f5e302ca280>.pick_up(arm = left, object_desig = ObjectDesignator({'resolver': 'grounding', 'type': 'milk', 'name': 'milk', 'object': <pycram.bullet_world.Object object at 0x7f5ea8413eb0>, 'pose': ((1.3, 1.0, 0.9), (0.0, 0.0, 0.0, 1.0))}), grasp = front)\n",
      "    |-- <pycram.designators.action_designator.ParkArmsAction object at 0x7f5e302ca730>.park_arms(arms = Arms.BOTH)\n",
      "    |-- <pycram.designators.action_designator.NavigateAction object at 0x7f5e302ca700>.navigate(target = [-1.9075000286102295, 0.7792000770568848, 0.0], orientation = [0.0, 0.0, 0.16439898301071468, 0.9863939245479175])\n",
      "    |-- <pycram.designators.action_designator.PlaceAction object at 0x7f5e302ca0d0>.place(arm = left, object_desig = ObjectDesignator({'resolver': 'grounding', 'type': 'milk', 'name': 'milk', 'object': <pycram.bullet_world.Object object at 0x7f5ea8413eb0>, 'pose': ((1.3, 1.0, 0.9), (0.0, 0.0, 0.0, 1.0))}), target = [[-1.2074999809265137, 1.019200086593628, 0.9439613818399623], [0.0, 0.0, 0.6339889056055381, 0.7733421413379024]])\n",
      "    +-- <pycram.designators.action_designator.ParkArmsAction object at 0x7f5e302d7430>.park_arms(arms = Arms.BOTH)\n"
     ]
    }
   ],
   "source": [
    "tt = pycram.task.task_tree\n",
    "print(anytree.RenderTree(tt, style=anytree.render.AsciiStyle()))"
   ]
  },
  {
   "cell_type": "markdown",
   "metadata": {},
   "source": [
    "As we see every task in the plan got recorded correctly. It is noticeable that the tree begins with a NoOperation node. This is done because several, not connected, plans that get executed after each other should still appear in the task tree. Hence, a NoOperation node is the root of any tree. If we re-execute the plan we would see them appear in the same tree even though they are not connected."
   ]
  },
  {
   "cell_type": "code",
   "execution_count": 5,
   "metadata": {
    "ExecuteTime": {
     "end_time": "2023-04-13T10:50:04.750336Z",
     "start_time": "2023-04-13T10:50:00.022503Z"
    }
   },
   "outputs": [
    {
     "name": "stdout",
     "output_type": "stream",
     "text": [
      "Parking arms Arms.BOTH.\n",
      "Moving to [0.7199999690055847, 1.0399999618530273, 0.0]. Orientation: [-0.0, 0.0, 0.03442140918758331, -0.9994074077119606].\n",
      "(0.7199999690055847, 1.0399999618530273, 0.0)\n",
      "Parking arms Arms.BOTH.\n",
      "Picking up ObjectDesignator({'resolver': 'grounding', 'type': 'milk', 'name': 'milk', 'object': <pycram.bullet_world.Object object at 0x7f5ea8413eb0>, 'pose': ((1.3, 1.0, 0.9), (0.0, 0.0, 0.0, 1.0))}) with left.\n",
      "Not attached to anything!\n",
      "Parking arms Arms.BOTH.\n",
      "Moving to [-1.9075000286102295, 0.7792000770568848, 0.0]. Orientation: [0.0, 0.0, 0.16439898301071468, 0.9863939245479175].\n",
      "(-1.9075000286102295, 0.7792000770568848, 0.0)\n",
      "Placing ObjectDesignator({'resolver': 'grounding', 'type': 'milk', 'name': 'milk', 'object': <pycram.bullet_world.Object object at 0x7f5ea8413eb0>, 'pose': ((1.3, 1.0, 0.9), (0.0, 0.0, 0.0, 1.0))}) with left at [[-1.2074999809265137, 1.019200086593628, 0.9439613818399623], [0.0, 0.0, 0.6339889056055381, 0.7733421413379024]].\n",
      "Parking arms Arms.BOTH.\n",
      "no_operation()\n",
      "|-- plan()\n",
      "|   |-- <pycram.designators.action_designator.ParkArmsAction object at 0x7f5ea8453a30>.park_arms(arms = Arms.BOTH)\n",
      "|   |-- <pycram.designators.action_designator.NavigateAction object at 0x7f5ea8453f70>.navigate(target = [0.7199999690055847, 1.0399999618530273, 0.0], orientation = [-0.0, 0.0, 0.03442140918758331, -0.9994074077119606])\n",
      "|   |-- <pycram.designators.action_designator.ParkArmsAction object at 0x7f5ea8453d30>.park_arms(arms = Arms.BOTH)\n",
      "|   |-- <pycram.designators.action_designator.PickUpAction object at 0x7f5e302ca280>.pick_up(arm = left, object_desig = ObjectDesignator({'resolver': 'grounding', 'type': 'milk', 'name': 'milk', 'object': <pycram.bullet_world.Object object at 0x7f5ea8413eb0>, 'pose': ((1.3, 1.0, 0.9), (0.0, 0.0, 0.0, 1.0))}), grasp = front)\n",
      "|   |-- <pycram.designators.action_designator.ParkArmsAction object at 0x7f5e302ca730>.park_arms(arms = Arms.BOTH)\n",
      "|   |-- <pycram.designators.action_designator.NavigateAction object at 0x7f5e302ca700>.navigate(target = [-1.9075000286102295, 0.7792000770568848, 0.0], orientation = [0.0, 0.0, 0.16439898301071468, 0.9863939245479175])\n",
      "|   |-- <pycram.designators.action_designator.PlaceAction object at 0x7f5e302ca0d0>.place(arm = left, object_desig = ObjectDesignator({'resolver': 'grounding', 'type': 'milk', 'name': 'milk', 'object': <pycram.bullet_world.Object object at 0x7f5ea8413eb0>, 'pose': ((1.3, 1.0, 0.9), (0.0, 0.0, 0.0, 1.0))}), target = [[-1.2074999809265137, 1.019200086593628, 0.9439613818399623], [0.0, 0.0, 0.6339889056055381, 0.7733421413379024]])\n",
      "|   +-- <pycram.designators.action_designator.ParkArmsAction object at 0x7f5e302d7430>.park_arms(arms = Arms.BOTH)\n",
      "+-- plan()\n",
      "    |-- <pycram.designators.action_designator.ParkArmsAction object at 0x7f5e9f6d38b0>.park_arms(arms = Arms.BOTH)\n",
      "    |-- <pycram.designators.action_designator.NavigateAction object at 0x7f5e302cab20>.navigate(target = [0.7199999690055847, 1.0399999618530273, 0.0], orientation = [-0.0, 0.0, 0.03442140918758331, -0.9994074077119606])\n",
      "    |-- <pycram.designators.action_designator.ParkArmsAction object at 0x7f5e302ca1c0>.park_arms(arms = Arms.BOTH)\n",
      "    |-- <pycram.designators.action_designator.PickUpAction object at 0x7f5e9f6d3670>.pick_up(arm = left, object_desig = ObjectDesignator({'resolver': 'grounding', 'type': 'milk', 'name': 'milk', 'object': <pycram.bullet_world.Object object at 0x7f5ea8413eb0>, 'pose': ((1.3, 1.0, 0.9), (0.0, 0.0, 0.0, 1.0))}), grasp = front)\n",
      "    |-- <pycram.designators.action_designator.ParkArmsAction object at 0x7f5e9f6d3610>.park_arms(arms = Arms.BOTH)\n",
      "    |-- <pycram.designators.action_designator.NavigateAction object at 0x7f5ec83c6280>.navigate(target = [-1.9075000286102295, 0.7792000770568848, 0.0], orientation = [0.0, 0.0, 0.16439898301071468, 0.9863939245479175])\n",
      "    |-- <pycram.designators.action_designator.PlaceAction object at 0x7f5ec83c69a0>.place(arm = left, object_desig = ObjectDesignator({'resolver': 'grounding', 'type': 'milk', 'name': 'milk', 'object': <pycram.bullet_world.Object object at 0x7f5ea8413eb0>, 'pose': ((1.3, 1.0, 0.9), (0.0, 0.0, 0.0, 1.0))}), target = [[-1.2074999809265137, 1.019200086593628, 0.9439613818399623], [0.0, 0.0, 0.6339889056055381, 0.7733421413379024]])\n",
      "    +-- <pycram.designators.action_designator.ParkArmsAction object at 0x7f5e9f6d3490>.park_arms(arms = Arms.BOTH)\n"
     ]
    }
   ],
   "source": [
    "world.reset_bullet_world()\n",
    "plan()\n",
    "print(anytree.RenderTree(tt, style=anytree.render.AsciiStyle()))"
   ]
  },
  {
   "cell_type": "markdown",
   "metadata": {},
   "source": [
    "Projecting a plan in a new environment with its own task tree that only exists while the projected plan is running can be done with the ``with`` keyword. When this is done, both the bullet world and task tree are saved and new, freshly reset objects are available. At the end of a with block the old state is restored. The root for such things is then called ``simulation()``."
   ]
  },
  {
   "cell_type": "code",
   "execution_count": 6,
   "metadata": {
    "ExecuteTime": {
     "end_time": "2023-04-13T10:50:08.965958Z",
     "start_time": "2023-04-13T10:50:08.940548Z"
    }
   },
   "outputs": [
    {
     "name": "stdout",
     "output_type": "stream",
     "text": [
      "simulation()\n",
      "no_operation()\n",
      "|-- plan()\n",
      "|   |-- <pycram.designators.action_designator.ParkArmsAction object at 0x7f5ea8453a30>.park_arms(arms = Arms.BOTH)\n",
      "|   |-- <pycram.designators.action_designator.NavigateAction object at 0x7f5ea8453f70>.navigate(target = [0.7199999690055847, 1.0399999618530273, 0.0], orientation = [-0.0, 0.0, 0.03442140918758331, -0.9994074077119606])\n",
      "|   |-- <pycram.designators.action_designator.ParkArmsAction object at 0x7f5ea8453d30>.park_arms(arms = Arms.BOTH)\n",
      "|   |-- <pycram.designators.action_designator.PickUpAction object at 0x7f5e302ca280>.pick_up(arm = left, object_desig = ObjectDesignator({'resolver': 'grounding', 'type': 'milk', 'name': 'milk', 'object': <pycram.bullet_world.Object object at 0x7f5ea8413eb0>, 'pose': ((1.3, 1.0, 0.9), (0.0, 0.0, 0.0, 1.0))}), grasp = front)\n",
      "|   |-- <pycram.designators.action_designator.ParkArmsAction object at 0x7f5e302ca730>.park_arms(arms = Arms.BOTH)\n",
      "|   |-- <pycram.designators.action_designator.NavigateAction object at 0x7f5e302ca700>.navigate(target = [-1.9075000286102295, 0.7792000770568848, 0.0], orientation = [0.0, 0.0, 0.16439898301071468, 0.9863939245479175])\n",
      "|   |-- <pycram.designators.action_designator.PlaceAction object at 0x7f5e302ca0d0>.place(arm = left, object_desig = ObjectDesignator({'resolver': 'grounding', 'type': 'milk', 'name': 'milk', 'object': <pycram.bullet_world.Object object at 0x7f5ea8413eb0>, 'pose': ((1.3, 1.0, 0.9), (0.0, 0.0, 0.0, 1.0))}), target = [[-1.2074999809265137, 1.019200086593628, 0.9439613818399623], [0.0, 0.0, 0.6339889056055381, 0.7733421413379024]])\n",
      "|   +-- <pycram.designators.action_designator.ParkArmsAction object at 0x7f5e302d7430>.park_arms(arms = Arms.BOTH)\n",
      "+-- plan()\n",
      "    |-- <pycram.designators.action_designator.ParkArmsAction object at 0x7f5e9f6d38b0>.park_arms(arms = Arms.BOTH)\n",
      "    |-- <pycram.designators.action_designator.NavigateAction object at 0x7f5e302cab20>.navigate(target = [0.7199999690055847, 1.0399999618530273, 0.0], orientation = [-0.0, 0.0, 0.03442140918758331, -0.9994074077119606])\n",
      "    |-- <pycram.designators.action_designator.ParkArmsAction object at 0x7f5e302ca1c0>.park_arms(arms = Arms.BOTH)\n",
      "    |-- <pycram.designators.action_designator.PickUpAction object at 0x7f5e9f6d3670>.pick_up(arm = left, object_desig = ObjectDesignator({'resolver': 'grounding', 'type': 'milk', 'name': 'milk', 'object': <pycram.bullet_world.Object object at 0x7f5ea8413eb0>, 'pose': ((1.3, 1.0, 0.9), (0.0, 0.0, 0.0, 1.0))}), grasp = front)\n",
      "    |-- <pycram.designators.action_designator.ParkArmsAction object at 0x7f5e9f6d3610>.park_arms(arms = Arms.BOTH)\n",
      "    |-- <pycram.designators.action_designator.NavigateAction object at 0x7f5ec83c6280>.navigate(target = [-1.9075000286102295, 0.7792000770568848, 0.0], orientation = [0.0, 0.0, 0.16439898301071468, 0.9863939245479175])\n",
      "    |-- <pycram.designators.action_designator.PlaceAction object at 0x7f5ec83c69a0>.place(arm = left, object_desig = ObjectDesignator({'resolver': 'grounding', 'type': 'milk', 'name': 'milk', 'object': <pycram.bullet_world.Object object at 0x7f5ea8413eb0>, 'pose': ((1.3, 1.0, 0.9), (0.0, 0.0, 0.0, 1.0))}), target = [[-1.2074999809265137, 1.019200086593628, 0.9439613818399623], [0.0, 0.0, 0.6339889056055381, 0.7733421413379024]])\n",
      "    +-- <pycram.designators.action_designator.ParkArmsAction object at 0x7f5e9f6d3490>.park_arms(arms = Arms.BOTH)\n"
     ]
    }
   ],
   "source": [
    "with pycram.task.SimulatedTaskTree() as stt:\n",
    "    print(anytree.RenderTree(pycram.task.task_tree, style=anytree.render.AsciiStyle()))\n",
    "print(anytree.RenderTree(pycram.task.task_tree, style=anytree.render.AsciiStyle()))"
   ]
  },
  {
   "cell_type": "markdown",
   "metadata": {},
   "source": [
    "Task tree can be manipulated with ordinary anytree manipulation. If we for example want to discard the second plan, we would write:"
   ]
  },
  {
   "cell_type": "code",
   "execution_count": 7,
   "metadata": {
    "ExecuteTime": {
     "end_time": "2023-04-13T10:50:11.726747Z",
     "start_time": "2023-04-13T10:50:11.717057Z"
    }
   },
   "outputs": [
    {
     "name": "stdout",
     "output_type": "stream",
     "text": [
      "no_operation()\n",
      "+-- plan()\n",
      "    |-- <pycram.designators.action_designator.ParkArmsAction object at 0x7f5ea8453a30>.park_arms(arms = Arms.BOTH)\n",
      "    |-- <pycram.designators.action_designator.NavigateAction object at 0x7f5ea8453f70>.navigate(target = [0.7199999690055847, 1.0399999618530273, 0.0], orientation = [-0.0, 0.0, 0.03442140918758331, -0.9994074077119606])\n",
      "    |-- <pycram.designators.action_designator.ParkArmsAction object at 0x7f5ea8453d30>.park_arms(arms = Arms.BOTH)\n",
      "    |-- <pycram.designators.action_designator.PickUpAction object at 0x7f5e302ca280>.pick_up(arm = left, object_desig = ObjectDesignator({'resolver': 'grounding', 'type': 'milk', 'name': 'milk', 'object': <pycram.bullet_world.Object object at 0x7f5ea8413eb0>, 'pose': ((1.3, 1.0, 0.9), (0.0, 0.0, 0.0, 1.0))}), grasp = front)\n",
      "    |-- <pycram.designators.action_designator.ParkArmsAction object at 0x7f5e302ca730>.park_arms(arms = Arms.BOTH)\n",
      "    |-- <pycram.designators.action_designator.NavigateAction object at 0x7f5e302ca700>.navigate(target = [-1.9075000286102295, 0.7792000770568848, 0.0], orientation = [0.0, 0.0, 0.16439898301071468, 0.9863939245479175])\n",
      "    |-- <pycram.designators.action_designator.PlaceAction object at 0x7f5e302ca0d0>.place(arm = left, object_desig = ObjectDesignator({'resolver': 'grounding', 'type': 'milk', 'name': 'milk', 'object': <pycram.bullet_world.Object object at 0x7f5ea8413eb0>, 'pose': ((1.3, 1.0, 0.9), (0.0, 0.0, 0.0, 1.0))}), target = [[-1.2074999809265137, 1.019200086593628, 0.9439613818399623], [0.0, 0.0, 0.6339889056055381, 0.7733421413379024]])\n",
      "    +-- <pycram.designators.action_designator.ParkArmsAction object at 0x7f5e302d7430>.park_arms(arms = Arms.BOTH)\n"
     ]
    }
   ],
   "source": [
    "tt.root.children = (tt.root.children[0],)\n",
    "print(anytree.RenderTree(tt, style=anytree.render.AsciiStyle()))"
   ]
  },
  {
   "cell_type": "markdown",
   "metadata": {},
   "source": [
    "We can now re-execute this (modified) plan by executing the leaf in pre-ordering iteration using the anytree functionality. This will not append the re-execution to the task tree."
   ]
  },
  {
   "cell_type": "code",
   "execution_count": 8,
   "metadata": {
    "ExecuteTime": {
     "end_time": "2023-04-13T10:50:18.110775Z",
     "start_time": "2023-04-13T10:50:14.041891Z"
    }
   },
   "outputs": [
    {
     "name": "stdout",
     "output_type": "stream",
     "text": [
      "Parking arms Arms.BOTH.\n",
      "Moving to [0.7199999690055847, 1.0399999618530273, 0.0]. Orientation: [-0.0, 0.0, 0.03442140918758331, -0.9994074077119606].\n",
      "(0.7199999690055847, 1.0399999618530273, 0.0)\n",
      "Parking arms Arms.BOTH.\n",
      "Picking up ObjectDesignator({'resolver': 'grounding', 'type': 'milk', 'name': 'milk', 'object': <pycram.bullet_world.Object object at 0x7f5ea8413eb0>, 'pose': ((1.3, 1.0, 0.9), (0.0, 0.0, 0.0, 1.0))}) with left.\n",
      "Not attached to anything!\n",
      "Parking arms Arms.BOTH.\n",
      "Moving to [-1.9075000286102295, 0.7792000770568848, 0.0]. Orientation: [0.0, 0.0, 0.16439898301071468, 0.9863939245479175].\n",
      "(-1.9075000286102295, 0.7792000770568848, 0.0)\n",
      "Placing ObjectDesignator({'resolver': 'grounding', 'type': 'milk', 'name': 'milk', 'object': <pycram.bullet_world.Object object at 0x7f5ea8413eb0>, 'pose': ((1.3, 1.0, 0.9), (0.0, 0.0, 0.0, 1.0))}) with left at [[-1.2074999809265137, 1.019200086593628, 0.9439613818399623], [0.0, 0.0, 0.6339889056055381, 0.7733421413379024]].\n",
      "Parking arms Arms.BOTH.\n",
      "no_operation()\n",
      "+-- plan()\n",
      "    |-- <pycram.designators.action_designator.ParkArmsAction object at 0x7f5ea8453a30>.park_arms(arms = Arms.BOTH)\n",
      "    |-- <pycram.designators.action_designator.NavigateAction object at 0x7f5ea8453f70>.navigate(target = [0.7199999690055847, 1.0399999618530273, 0.0], orientation = [-0.0, 0.0, 0.03442140918758331, -0.9994074077119606])\n",
      "    |-- <pycram.designators.action_designator.ParkArmsAction object at 0x7f5ea8453d30>.park_arms(arms = Arms.BOTH)\n",
      "    |-- <pycram.designators.action_designator.PickUpAction object at 0x7f5e302ca280>.pick_up(arm = left, object_desig = ObjectDesignator({'resolver': 'grounding', 'type': 'milk', 'name': 'milk', 'object': <pycram.bullet_world.Object object at 0x7f5ea8413eb0>, 'pose': ((1.3, 1.0, 0.9), (0.0, 0.0, 0.0, 1.0))}), grasp = front)\n",
      "    |-- <pycram.designators.action_designator.ParkArmsAction object at 0x7f5e302ca730>.park_arms(arms = Arms.BOTH)\n",
      "    |-- <pycram.designators.action_designator.NavigateAction object at 0x7f5e302ca700>.navigate(target = [-1.9075000286102295, 0.7792000770568848, 0.0], orientation = [0.0, 0.0, 0.16439898301071468, 0.9863939245479175])\n",
      "    |-- <pycram.designators.action_designator.PlaceAction object at 0x7f5e302ca0d0>.place(arm = left, object_desig = ObjectDesignator({'resolver': 'grounding', 'type': 'milk', 'name': 'milk', 'object': <pycram.bullet_world.Object object at 0x7f5ea8413eb0>, 'pose': ((1.3, 1.0, 0.9), (0.0, 0.0, 0.0, 1.0))}), target = [[-1.2074999809265137, 1.019200086593628, 0.9439613818399623], [0.0, 0.0, 0.6339889056055381, 0.7733421413379024]])\n",
      "    +-- <pycram.designators.action_designator.ParkArmsAction object at 0x7f5e302d7430>.park_arms(arms = Arms.BOTH)\n"
     ]
    }
   ],
   "source": [
    "world.reset_bullet_world()\n",
    "with simulated_robot:\n",
    "    [node.code.execute() for node in tt.root.leaves]\n",
    "print(anytree.RenderTree(pycram.task.task_tree, style=anytree.render.AsciiStyle()))"
   ]
  },
  {
   "cell_type": "markdown",
   "metadata": {},
   "source": [
    "Nodes in the task tree contain additional information about the status and time of a task."
   ]
  },
  {
   "cell_type": "code",
   "execution_count": 9,
   "metadata": {
    "ExecuteTime": {
     "end_time": "2023-04-13T10:50:21.074256Z",
     "start_time": "2023-04-13T10:50:21.063201Z"
    }
   },
   "outputs": [
    {
     "name": "stdout",
     "output_type": "stream",
     "text": [
      "Code: plan() \n",
      " start_time: 2023-04-13 10:49:43.184007 \n",
      " Status: TaskStatus.SUCCEEDED \n",
      " end_time: 2023-04-13 10:49:47.980515 \n",
      " \n"
     ]
    }
   ],
   "source": [
    "print(pycram.task.task_tree.children[0])"
   ]
  },
  {
   "cell_type": "markdown",
   "metadata": {},
   "source": [
    "The task tree can also be reset to an empty one by invoking:"
   ]
  },
  {
   "cell_type": "code",
   "execution_count": 10,
   "metadata": {
    "ExecuteTime": {
     "end_time": "2023-04-13T10:50:23.996623Z",
     "start_time": "2023-04-13T10:50:23.988659Z"
    }
   },
   "outputs": [
    {
     "name": "stdout",
     "output_type": "stream",
     "text": [
      "no_operation()\n"
     ]
    }
   ],
   "source": [
    "pycram.task.reset_tree()\n",
    "print(anytree.RenderTree(pycram.task.task_tree, style=anytree.render.AsciiStyle()))"
   ]
  },
  {
   "cell_type": "markdown",
   "metadata": {},
   "source": [
    "If a plan fails using the PlanFailure exception, the plan will not stop. Instead, the error will be logged and saved in the task tree as a failed subtask. First let's create a simple failing plan and execute it."
   ]
  },
  {
   "cell_type": "code",
   "execution_count": 11,
   "metadata": {
    "ExecuteTime": {
     "end_time": "2023-04-13T10:50:27.502622Z",
     "start_time": "2023-04-13T10:50:27.496138Z"
    }
   },
   "outputs": [],
   "source": [
    "@pycram.task.with_tree\n",
    "def failing_plan():\n",
    "    raise pycram.plan_failures.PlanFailure(\"Oopsie!\")\n",
    "\n",
    "failing_plan()"
   ]
  },
  {
   "cell_type": "markdown",
   "metadata": {},
   "source": []
  },
  {
   "cell_type": "markdown",
   "metadata": {},
   "source": [
    "We can now investigate the nodes of the tree, and we will see that the tree indeed contains a failed task."
   ]
  },
  {
   "cell_type": "code",
   "execution_count": 12,
   "metadata": {
    "ExecuteTime": {
     "end_time": "2023-04-13T10:50:31.140127Z",
     "start_time": "2023-04-13T10:50:31.132328Z"
    }
   },
   "outputs": [
    {
     "name": "stdout",
     "output_type": "stream",
     "text": [
      "no_operation()\n",
      "+-- failing_plan()\n",
      "Code: failing_plan() \n",
      " start_time: 2023-04-13 10:50:27.493840 \n",
      " Status: TaskStatus.FAILED \n",
      " end_time: 2023-04-13 10:50:27.494815 \n",
      " \n"
     ]
    }
   ],
   "source": [
    "print(anytree.RenderTree(pycram.task.task_tree, style=anytree.render.AsciiStyle()))\n",
    "print(pycram.task.task_tree.children[0])"
   ]
  },
  {
   "cell_type": "code",
   "execution_count": 1,
   "metadata": {
    "ExecuteTime": {
     "end_time": "2023-04-13T10:50:34.484428Z",
     "start_time": "2023-04-13T10:50:34.256310Z"
    }
   },
   "outputs": [
    {
     "ename": "NameError",
     "evalue": "name 'world' is not defined",
     "output_type": "error",
     "traceback": [
      "\u001B[0;31m---------------------------------------------------------------------------\u001B[0m",
      "\u001B[0;31mNameError\u001B[0m                                 Traceback (most recent call last)",
      "Cell \u001B[0;32mIn[1], line 1\u001B[0m\n\u001B[0;32m----> 1\u001B[0m \u001B[43mworld\u001B[49m\u001B[38;5;241m.\u001B[39mexit()\n",
      "\u001B[0;31mNameError\u001B[0m: name 'world' is not defined"
     ]
    }
   ],
   "source": [
    "world.exit()"
   ]
  },
  {
   "cell_type": "code",
   "execution_count": null,
   "metadata": {},
   "outputs": [],
   "source": []
  }
 ],
 "metadata": {
  "kernelspec": {
   "display_name": "Python 3",
   "language": "python",
   "name": "python3"
  },
  "language_info": {
   "codemirror_mode": {
    "name": "ipython",
    "version": 3
   },
   "file_extension": ".py",
   "mimetype": "text/x-python",
   "name": "python",
   "nbconvert_exporter": "python",
   "pygments_lexer": "ipython3",
   "version": "3.8.10"
  }
 },
 "nbformat": 4,
 "nbformat_minor": 1
}
